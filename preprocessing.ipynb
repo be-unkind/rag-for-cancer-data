{
 "cells": [
  {
   "cell_type": "code",
   "execution_count": 29,
   "metadata": {},
   "outputs": [],
   "source": [
    "from langchain_experimental.text_splitter import SemanticChunker\n",
    "from langchain_community.embeddings import HuggingFaceEmbeddings"
   ]
  },
  {
   "cell_type": "code",
   "execution_count": 1,
   "metadata": {},
   "outputs": [],
   "source": [
    "import os\n",
    "import torch\n",
    "import pickle"
   ]
  },
  {
   "cell_type": "code",
   "execution_count": 2,
   "metadata": {},
   "outputs": [],
   "source": [
    "import chromadb\n",
    "import os\n",
    "import json\n",
    "import uuid"
   ]
  },
  {
   "cell_type": "code",
   "execution_count": null,
   "metadata": {},
   "outputs": [],
   "source": [
    "from configs import models_config\n",
    "from configs import db_config"
   ]
  },
  {
   "cell_type": "code",
   "execution_count": 57,
   "metadata": {},
   "outputs": [],
   "source": [
    "from pprint import pprint"
   ]
  },
  {
   "cell_type": "code",
   "execution_count": 3,
   "metadata": {},
   "outputs": [],
   "source": [
    "data_dir = os.path.join(os.getcwd(), 'data')"
   ]
  },
  {
   "cell_type": "code",
   "execution_count": 4,
   "metadata": {},
   "outputs": [],
   "source": [
    "texts = {}\n",
    "\n",
    "for filename in os.listdir(data_dir):\n",
    "    filepath = os.path.join(data_dir, filename)\n",
    "\n",
    "    with open(filepath) as file:\n",
    "        text = file.read()\n",
    "        texts[f'{filename.split(\".\")[0]}'] = text"
   ]
  },
  {
   "cell_type": "code",
   "execution_count": 6,
   "metadata": {},
   "outputs": [],
   "source": [
    "keys_to_delete = []\n",
    "for key, value in texts.items():\n",
    "    if value == '':\n",
    "        keys_to_delete.append(key)\n",
    "\n",
    "for key in keys_to_delete:\n",
    "    del texts[key]"
   ]
  },
  {
   "cell_type": "code",
   "execution_count": 8,
   "metadata": {},
   "outputs": [],
   "source": [
    "texts_lst = list(texts.values())"
   ]
  },
  {
   "cell_type": "code",
   "execution_count": 31,
   "metadata": {},
   "outputs": [],
   "source": [
    "device = 'cuda:0' if torch.cuda.is_available() else 'cpu'"
   ]
  },
  {
   "cell_type": "code",
   "execution_count": null,
   "metadata": {},
   "outputs": [],
   "source": [
    "text_splitter = SemanticChunker(HuggingFaceEmbeddings(model_name=models_config.EMBEDDING_MODEL_NAME, model_kwargs={'device': device}), breakpoint_threshold_type=models_config.CHUNKING_BREAKPOINT)"
   ]
  },
  {
   "cell_type": "code",
   "execution_count": null,
   "metadata": {},
   "outputs": [],
   "source": [
    "docs = text_splitter.create_documents(texts_lst)"
   ]
  },
  {
   "cell_type": "code",
   "execution_count": 32,
   "metadata": {},
   "outputs": [],
   "source": [
    "model_embedding = HuggingFaceEmbeddings(model_name=models_config.EMBEDDING_MODEL_NAME, model_kwargs={'device': device})"
   ]
  },
  {
   "cell_type": "code",
   "execution_count": null,
   "metadata": {},
   "outputs": [],
   "source": [
    "embeddings = model_embedding.embed_documents([x.page_content for x in docs])"
   ]
  },
  {
   "cell_type": "markdown",
   "metadata": {},
   "source": [
    "### Open from loaded"
   ]
  },
  {
   "cell_type": "code",
   "execution_count": 9,
   "metadata": {},
   "outputs": [],
   "source": [
    "with open(os.path.join(os.getcwd(), 'docs.pkl'), 'rb') as f:\n",
    "    docs = pickle.load(f)"
   ]
  },
  {
   "cell_type": "code",
   "execution_count": 10,
   "metadata": {},
   "outputs": [],
   "source": [
    "with open(os.path.join(os.getcwd(), 'embeddings.pkl'), 'rb') as f:\n",
    "    embeddings = pickle.load(f)"
   ]
  },
  {
   "cell_type": "code",
   "execution_count": 11,
   "metadata": {},
   "outputs": [
    {
     "data": {
      "text/plain": [
       "[Document(page_content=\"Penile cancer starts in or on the penis. Cancer starts when cells begin to grow out of control. Cells in nearly any part of the body can become cancer, and can spread to other parts of the body. To learn more about how cancers start and spread, see What Is Cancer? About the penis\\nThe penis is the external male sex organ. It's also part of the urinary system. It's made up of many types of body tissues, including skin, nerves, smooth muscle, and blood vessels.The American Cancer Society estimates for penile cancer in the United States for 2024 are:\\n\\nAbout 2,100 new cases of penile cancer diagnosed\\nAbout 500 deaths from penile cancer\\n\\nFor statistics related to survival, see Survival Rates for Penile Cancer. Penile cancer is rare in North America and Europe. It's diagnosed in fewer than 1 man in 100,000 each year and accounts for fewer than 1% of cancers in men in the United States. Penile cancer is much more common in some parts of Asia, Africa, and South America. Visit the American Cancer Society’s Cancer Statistics Center for more key statistics.Penile cancer is rare in this country, so it's hard to study. Still, research on penile cancer is being done in many university hospitals, medical centers, and other institutions around the world. Most experts agree that treatment in a clinical trial should be considered for any type or stage of penile cancer. This way men can get the best treatment available now and may also get the new treatments that are thought to be even better. The new and promising treatments discussed here are only available in clinical trials. Drugs to treat penile cancer\\nDoctors are also looking at different chemotherapy drugs to treat penile cancer, especially later-stage cancers and those that don't respond to or come back after treatment. Learning more about the gene changes linked to penile cancer might help guide use of targeted therapies. Targeted therapy is a term used for drugs that target certain cell changes and signals that are needed for a cancer to develop and keep growing. Targeted therapies might sometimes work when standard chemo drugs don’t, and they tend to have different (and often less severe) side effects from most standard chemo drugs. But it’s not yet clear how useful these or other targeted drugs might be for penile cancer. Early results suggest some benefit, but more research is needed. Treating lymph nodes\\nAt this time, there's no known best way to treat penile cancer that has spread to nearby lymph nodes. International studies are looking at how to best combine surgery, radiation, and chemo, as well as the best order in which to use these treatments. Another research interest is finding good ways to find even tiny bits of cancer in the lymph nodes. Studies are looking at imaging tests like PET scans, MRIs, and ultrasound to find affected nodes. This would help direct treatment and potentially improve treatment outcomes.A risk factor is anything that affects your chance of getting a disease like cancer. Different cancers have different risk factors. Some cancer risk factors, like smoking or sun exposure, can be changed. Others, like a person’s age or family history, can’t be changed. But having a risk factor, or even many, doesn't mean that you will get the disease. On the other hand, some men who develop penile cancer have no known risk factors. Scientists have found certain risk factors that make a man more likely to develop penile cancer. Human papillomavirus (HPV) infection\\nHuman papillomavirus (HPV) is a group of more than 150 related viruses. They are called papillomaviruses because some of them cause growths called papillomas (more commonly called warts). Different HPV types cause different types of warts in various parts of the body. Certain HPV types can infect the genital organs and the anal area, causing raised, bumpy warts called condyloma acuminata (or just condylomas). Other HPV types have been linked with certain cancers. For example, infection with some types of HPV appears to be an important risk factor for penile cancer. In fact, HPV is found in about half of all penile cancers. HPV is passed from one person to another during skin-to-skin contact with an infected area of the body. HPV can be spread during sexual activity – including vaginal, anal, and oral – but sex doesn’t have to occur for the infection to spread. All that's needed is skin-to-skin contact with an area of the body infected with HPV. Infection with HPV can also spread from one part of the body to another. For example, infection may start in the penis and then spread to the anus. HPV infection is common. In most men, the body clears the infection on its own. But in some, the infection doesn't go away and becomes chronic. Over time, chronic infection, especially with certain HPV types, can cause some types of cancer, including penile cancer. Men who are not circumcised may be more likely to get and stay infected with HPV. To learn a lot more, see our HPV section. Not being circumcised\\nCircumcision removes all (or part) of the foreskin. This procedure is most often done in infants, but it can be done later in life, too. Men who were circumcised as children may have a much lower chance of getting penile cancer than those who were not. In fact, some experts say that circumcision as an infant prevents this cancer. The same protective effect is not seen if circumcision is done as an adult. The reason for the lower risk in circumcised men is not entirely clear, but it may be related to other known risk factors. For example, men who are circumcised can’t develop the condition called phimosis, and they don’t accumulate material known as smegma (see the next section). Men with smegma or phimosis have an increased risk of penile cancer. The later a man is circumcised, it's more likely that one of these conditions will occur first. In weighing the risks and benefits of circumcision, doctors consider the fact that penile cancer is very uncommon in the United States, even in uncircumcised men. Although the American Academy of Pediatrics has stated that the health benefits of circumcision in newborn males outweigh the risks, it also states these benefits are not great enough to recommend that all newborns be routinely circumcised. In the end, decisions about circumcision are highly personal and often depend more on social and religious factors than on medical evidence. Phimosis and smegma\\nUncircumcised men with certain conditions are at higher risk for penile cancer. Phimosis\\nIn men who are not circumcised, the foreskin can sometimes become tight and difficult to retract. This is known as phimosis. Penile cancer is more common in men with phimosis. The reason for this is not clear, but it might be related to the build-up of smegma or from inflammation that results from phimosis. Smegma\\nSometimes secretions can build up underneath an intact foreskin. If the area under the foreskin isn’t cleaned well, these secretions build up enough to become a thick, sometimes smelly substance called smegma. Smegma is more common in men with phimosis, but can occur in anyone with a foreskin if the foreskin isn't retracted regularly to clean the head of the penis. In the past some experts were concerned that smegma might contain compounds that can cause cancer. Most experts now believe that smegma itself probably doesn’t cause penile cancer. But it can irritate and inflame the penis, which can increase the risk of cancer. It might also make it harder to see very early cancers. Smoking and other tobacco use\\nMen who smoke and/or use other forms of tobacco are more likely to develop penile cancer. Tobacco users who have HPV infections have an even higher risk. Tobacco use exposes your body to many cancer-causing chemicals. These harmful substances are inhaled into the lungs, where they are absorbed into the blood, or they're absorbed through mouth tissues into the blood. They can travel in the bloodstream throughout the body to cause cancer in many different areas. Researchers believe that these substances damage genes in cells of the penis, which can lead to penile cancer. UV light treatment of psoriasis\\nMen who have a skin disease called psoriasis are sometimes treated with drugs called psoralens and then an ultraviolet A (UVA) light source. This is called PUVA therapy. Men who have had this treatment have been found to have a higher rate of penile cancer. To help lower this risk, men being treated with PUVA now have their genitals covered during treatment. Age\\nThe risk of penile cancer goes up with age. In the US, the average age of a man when he is diagnosed is about 68. About 4 out of 5 penile cancers are diagnosed in men over age 55. AIDS\\nMen with AIDS have a higher risk of penile cancer. This higher risk seems to be linked to their weakened immune system, which is a result of this disease. But it might also be linked to other risk factors that men with HIV (the virus that causes AIDS) are more likely to have. For example, men with HIV are more likely to smoke and be infected with HPV.The exact cause of most penile cancers is not known. But scientists have found that it's linked with a number of other conditions. Research is being done around the world to learn more about how these risk factors might cause cells of the penis to become cancer. For instance, research has shown that normal cells control themselves by making substances called tumor suppressor gene products to keep them from growing too fast and becoming cancers. Two proteins (E6 and E7) made by high-risk types of human papillomavirus (HPV) can block the way tumor suppressor gene products work in cells. This allows the cells to start growing out of control, which might make them more likely to become cancer. Tobacco use has been linked to penile cancer. It creates cancer-causing chemicals that spread throughout the body and can damage the DNA inside cells, such as the cells of the penis. DNA is the chemical in our cells that makes up our genes. (Genes control how our cells grow and divide.) When DNA damage affects the genes that control cell growth, it can lead to cancer. See Genetics and Cancer to learn more about the complex link between genes and cancer.The large variations in penile cancer rates throughout the world suggest that many penile cancers can be prevented. The best way to reduce the risk of penile cancer is to avoid known risk factors. (See Risk Factors for Penile Cancer.) But some men with penile cancer have no known avoidable risk factors, so it’s not possible to prevent this disease completely.. Circumcision\\nIn the past, circumcision (removing the foreskin on the penis) was suggested as a way to lower penile cancer risk. This was based on studies that reported much lower penile cancer rates among circumcised men than among uncircumcised men. But in some studies, the protective effect of circumcision wasn't seen after factors like smegma and phimosis were taken into account. Still, some experts have said that circumcision prevents penile cancer. In the US, the risk of penile cancer is low even among uncircumcised men. Men who aren’t circumcised can help lower their risk of penile cancer by practicing good genital hygiene. Genital hygiene\\nPerhaps the most important factor in preventing penile cancer in uncircumcised men is good genital hygiene. Uncircumcised men need to pull back (retract) the foreskin and clean the entire penis. If the foreskin is constricted and hard to retract (this is called phimosis), a doctor may be able to prescribe a cream or ointment that can make it easier to do so. If this doesn’t work the doctor may cut the skin of the foreskin in a procedure called a dorsal slit to make retraction easier. HPV infection\\nHPV is very common, so having sex with even one other person can put you at risk. A man can have an HPV infection for years without any symptoms, so the absence of visible warts can’t be used to tell if someone has HPV. Even when someone doesn’t have warts (or any other symptom), he (or she) can still be infected with HPV and pass the virus to somebody else. To earn a lot more about HPV, including what you can do to help prevent it, see the HPV section of our website. Tobacco use\\nTobacco use also increases penile cancer risk, so not using any form of tobacco might lower that risk. Quitting tobacco or never starting to use it in the first place is a good way to reduce your risk of many diseases, including penile cancer.There are no widely recommended screening tests for penile cancer, but many penile cancers can be found early, when they're small and before they have spread to other parts of the body. Almost all penile cancers start in the skin, so they're often noticed early. Cancers that start under the foreskin may not be seen as quickly, especially if a man has phimosis (constriction of the foreskin). Some penile cancers cause symptoms that could also be caused by a disease other than cancer. Even if a man sees or feels something abnormal, he may not recognize it as something that needs medical attention right away. You should see a doctor if you find a new redness, growth, or other change in your penis, even if it's not painful. Things like warts, blisters, sores, ulcers, white patches, or other abnormal areas need to be checked by a doctor. Most are not cancer, but they may be caused by an infection or some other condition that needs to be treated. Some men avoid going to the doctor for lesions (changes) on their penis. In fact, many put off seeking treatment for a year or more after they first notice the problem. Don't let embarrassment or fear keep you from having these changes checked. Most penile cancers are easy to treat in the early stages. If a cancer is found early, it can often be removed with little or no damage to the penis. But if it's not diagnosed until later, part of or all of the penis may need to be removed to treat the cancer. More advanced cancers are also more likely to require other, more invasive treatments, and may even be life threatening.The signs and symptoms below don’t always mean a man has penile cancer. In fact, many are more likely to be caused by other conditions.\"),\n",
       " Document(page_content='Still, if you have any of them, see a doctor right away so their cause can be found and treated, if needed.'),\n",
       " Document(page_content=\"The sooner a diagnosis is made, the sooner you can start treatment and the better it is likely to work. Skin changes\\nThe first sign of penile cancer is most often a change in the skin of the penis. This is most likely to be on the glans (tip) of the penis or on the foreskin (in uncircumcised men), but it can also be on the shaft. These changes may include:\\n\\nAn area of skin becoming thicker\\nChanges in the skin color\\nA lump\\nAn ulcer (sore) that might bleed\\nA reddish, velvety rash under the foreskin\\nSmall, crusty bumps\\nFlat, bluish-brown growths\\nSmelly discharge (fluid) or bleeding under the foreskin\\n\\nSores or lumps from penile cancer usually don't hurt, but they might. You should see a doctor if you find any kind of new growth or other abnormality on your penis, even if it's not painful. Any change that doesn't get better in about 4 weeks, or gets worse, should be checked by a doctor. Swelling\\nSwelling at the end of the penis, especially when the foreskin is constricted, is another possible sign of penile cancer. It may be harder to draw back the foreskin. Lumps under the skin in the groin area\\nIf the cancer spreads from the penis, it most often travels first to lymph nodes in the groin. This can make those lymph nodes swell.\")]"
      ]
     },
     "execution_count": 11,
     "metadata": {},
     "output_type": "execute_result"
    }
   ],
   "source": [
    "docs[0:3]"
   ]
  },
  {
   "cell_type": "code",
   "execution_count": 12,
   "metadata": {},
   "outputs": [
    {
     "data": {
      "text/plain": [
       "[0.008598961867392063,\n",
       " -0.003967630676925182,\n",
       " -0.0006065233028493822,\n",
       " -0.020392857491970062,\n",
       " 0.025290999561548233,\n",
       " 0.04458964616060257,\n",
       " 0.05590782314538956,\n",
       " -0.006728933192789555,\n",
       " 0.04095790162682533,\n",
       " 0.006288500037044287,\n",
       " 0.04194159060716629,\n",
       " -0.02302701584994793,\n",
       " 0.002274874597787857,\n",
       " 0.0040405248291790485,\n",
       " -0.09322895109653473,\n",
       " -0.029570389539003372,\n",
       " -0.03306207433342934,\n",
       " -0.03410869091749191,\n",
       " -0.01917378604412079,\n",
       " 0.0029412489384412766,\n",
       " 0.01386633887887001,\n",
       " -0.0058618816547095776,\n",
       " 0.002881762105971575,\n",
       " -0.04043223336338997,\n",
       " 0.059105269610881805,\n",
       " -0.04979551210999489,\n",
       " -0.0067557054571807384,\n",
       " -0.060590971261262894,\n",
       " -0.01926354318857193,\n",
       " -0.14210860431194305,\n",
       " 0.01670099049806595,\n",
       " -0.007724265567958355,\n",
       " -0.0633479580283165,\n",
       " -0.03778870776295662,\n",
       " -0.04141457378864288,\n",
       " -0.046574514359235764,\n",
       " 0.01582512818276882,\n",
       " -0.0024577162694185972,\n",
       " 0.0021800321992486715,\n",
       " -0.007535440847277641,\n",
       " 0.026858005672693253,\n",
       " -0.001036448054946959,\n",
       " -0.020214950665831566,\n",
       " 0.03599084913730621,\n",
       " 0.028545141220092773,\n",
       " 0.03288792446255684,\n",
       " -0.08329232037067413,\n",
       " -0.00824796874076128,\n",
       " 0.13036103546619415,\n",
       " -0.02697938308119774,\n",
       " 0.04426632821559906,\n",
       " -0.0348384752869606,\n",
       " 0.06725877523422241,\n",
       " 0.03246041759848595,\n",
       " 0.01596325822174549,\n",
       " -0.05133599042892456,\n",
       " 0.04932265356183052,\n",
       " 0.03664889559149742,\n",
       " -0.041460346430540085,\n",
       " -0.0028096893802285194,\n",
       " -0.02498735301196575,\n",
       " -0.01950674131512642,\n",
       " -0.11960171163082123,\n",
       " 0.09692788869142532,\n",
       " -0.0178083349019289,\n",
       " -0.07863890379667282,\n",
       " -0.015688851475715637,\n",
       " 0.012489509768784046,\n",
       " 0.06624722480773926,\n",
       " -0.025845501571893692,\n",
       " -0.011589587666094303,\n",
       " 0.031193340197205544,\n",
       " -0.02574809081852436,\n",
       " 0.0776560977101326,\n",
       " -0.012955117970705032,\n",
       " -0.06830527633428574,\n",
       " 0.007175724487751722,\n",
       " -0.02396790310740471,\n",
       " -0.0028958553448319435,\n",
       " -0.01989772357046604,\n",
       " -0.004894602578133345,\n",
       " 0.07718309015035629,\n",
       " 0.019100401550531387,\n",
       " 0.015911540016531944,\n",
       " -0.048624806106090546,\n",
       " -0.067601777613163,\n",
       " -0.035457659512758255,\n",
       " -0.032560091465711594,\n",
       " -0.047015704214572906,\n",
       " 0.002659460064023733,\n",
       " -0.02359030954539776,\n",
       " -0.02459111623466015,\n",
       " -0.019213007763028145,\n",
       " -0.007317604497075081,\n",
       " -0.010830572806298733,\n",
       " -0.04753416031599045,\n",
       " -0.01172557845711708,\n",
       " -0.013003971427679062,\n",
       " 0.001659481436945498,\n",
       " 0.37639325857162476,\n",
       " -0.02614455297589302,\n",
       " -0.02168177254498005,\n",
       " -0.026846200227737427,\n",
       " 0.03945262357592583,\n",
       " 0.012010151520371437,\n",
       " 0.009987273253500462,\n",
       " 0.016986390575766563,\n",
       " 0.0006660802755504847,\n",
       " 0.011108496226370335,\n",
       " 0.0572853647172451,\n",
       " 0.03662387281656265,\n",
       " 0.028169868513941765,\n",
       " -0.040002718567848206,\n",
       " -0.08256307244300842,\n",
       " -0.03961485996842384,\n",
       " -0.09539756178855896,\n",
       " 0.05870366841554642,\n",
       " 0.027536196634173393,\n",
       " 0.0038914133328944445,\n",
       " 0.016577288508415222,\n",
       " -0.03423837199807167,\n",
       " 0.021467184647917747,\n",
       " -0.04305137321352959,\n",
       " 0.043322693556547165,\n",
       " 0.027329400181770325,\n",
       " 0.040657319128513336,\n",
       " 0.029114697128534317,\n",
       " 0.08859550952911377,\n",
       " 0.0373111329972744,\n",
       " -0.07186667621135712,\n",
       " 0.05733829364180565,\n",
       " 0.015579362399876118,\n",
       " -0.07200270891189575,\n",
       " -0.016605157405138016,\n",
       " -0.03899432346224785,\n",
       " 0.020687710493803024,\n",
       " 0.017735997214913368,\n",
       " 0.004038314800709486,\n",
       " -0.013070160523056984,\n",
       " -0.0006061284220777452,\n",
       " 0.046396709978580475,\n",
       " -0.04820634424686432,\n",
       " 0.017407143488526344,\n",
       " -0.09712962806224823,\n",
       " 0.01479037944227457,\n",
       " 0.045263830572366714,\n",
       " 0.0024813665077090263,\n",
       " -0.02665264718234539,\n",
       " -0.04797598347067833,\n",
       " -0.012536057271063328,\n",
       " 0.05367155373096466,\n",
       " 0.05680568888783455,\n",
       " -0.06633110344409943,\n",
       " 0.017610352486371994,\n",
       " -0.017686886712908745,\n",
       " -0.010880768299102783,\n",
       " 0.009445100091397762,\n",
       " -0.03899030759930611,\n",
       " -0.04317248985171318,\n",
       " 0.057125017046928406,\n",
       " -0.005227039568126202,\n",
       " -0.02241009660065174,\n",
       " -0.0645662248134613,\n",
       " 0.05694810673594475,\n",
       " 0.07174962013959885,\n",
       " -0.06289253383874893,\n",
       " -0.05521417409181595,\n",
       " 0.017610667273402214,\n",
       " -0.029732966795563698,\n",
       " -0.014013386331498623,\n",
       " 0.014193478040397167,\n",
       " 0.011438466608524323,\n",
       " 0.020405065268278122,\n",
       " 0.02643967978656292,\n",
       " -0.00875210203230381,\n",
       " -0.021690035238862038,\n",
       " -0.03239090368151665,\n",
       " -0.08430752903223038,\n",
       " -0.05381215363740921,\n",
       " 0.047867026180028915,\n",
       " 0.08220013976097107,\n",
       " -0.018114931881427765,\n",
       " 0.027897965162992477,\n",
       " 0.021400608122348785,\n",
       " -0.05455393344163895,\n",
       " 0.024391191080212593,\n",
       " -0.010605103336274624,\n",
       " 0.060207609087228775,\n",
       " 0.0826944038271904,\n",
       " 0.06591402739286423,\n",
       " -0.0015451146755367517,\n",
       " 0.08538216352462769,\n",
       " 0.003908357582986355,\n",
       " 0.00041024346137419343,\n",
       " -0.003100600093603134,\n",
       " -0.09901569038629532,\n",
       " -0.067668117582798,\n",
       " -0.04148014262318611,\n",
       " -0.017576484009623528,\n",
       " 0.003143613925203681,\n",
       " 0.03692673519253731,\n",
       " -0.02574477717280388,\n",
       " 0.04667545482516289,\n",
       " 0.0378992073237896,\n",
       " 0.006609346717596054,\n",
       " 0.07092104107141495,\n",
       " 0.019216082990169525,\n",
       " 0.013724850490689278,\n",
       " 0.03214982897043228,\n",
       " -0.03008660301566124,\n",
       " -0.05480162054300308,\n",
       " 0.030452366918325424,\n",
       " 0.005424057133495808,\n",
       " -0.03982141613960266,\n",
       " -0.04559184983372688,\n",
       " 0.006505129858851433,\n",
       " -0.034163761883974075,\n",
       " -0.03939332440495491,\n",
       " 0.0314459353685379,\n",
       " 0.013647977262735367,\n",
       " 0.05355234444141388,\n",
       " 0.025134842842817307,\n",
       " -0.0012465864419937134,\n",
       " -0.29421260952949524,\n",
       " -0.06575146317481995,\n",
       " 0.01169850118458271,\n",
       " 0.012960811145603657,\n",
       " 0.07948802411556244,\n",
       " -0.007943615317344666,\n",
       " -0.05721551924943924,\n",
       " -0.02870052680373192,\n",
       " 0.006478846073150635,\n",
       " 0.017125166952610016,\n",
       " 0.07209007441997528,\n",
       " 0.057604510337114334,\n",
       " 0.048260562121868134,\n",
       " 0.015426321886479855,\n",
       " -0.037856440991163254,\n",
       " 0.011381274089217186,\n",
       " 0.04532447084784508,\n",
       " -0.0373910591006279,\n",
       " -0.01871991902589798,\n",
       " -0.05962911993265152,\n",
       " 0.00018479872960597277,\n",
       " -0.054948464035987854,\n",
       " -0.0026033998001366854,\n",
       " -0.017952099442481995,\n",
       " 0.07104329764842987,\n",
       " 0.026606399565935135,\n",
       " 0.09146835654973984,\n",
       " 0.03988652303814888,\n",
       " -0.012607406824827194,\n",
       " -0.06548447906970978,\n",
       " 0.01891527697443962,\n",
       " 0.033037152141332626,\n",
       " -0.00885819736868143,\n",
       " -0.0955061987042427,\n",
       " 0.11316199600696564,\n",
       " -0.040965739637613297,\n",
       " -0.005607231054455042,\n",
       " -0.03597719594836235,\n",
       " -0.08061440289020538,\n",
       " 0.03430330380797386,\n",
       " -0.06135157495737076,\n",
       " -0.0009151186677627265,\n",
       " -0.050428006798028946,\n",
       " 0.005746553186327219,\n",
       " -0.03144305199384689,\n",
       " 0.03750001639127731,\n",
       " 0.02481125108897686,\n",
       " 0.05794636532664299,\n",
       " 0.02885669842362404,\n",
       " 0.009454800747334957,\n",
       " 0.01958545669913292,\n",
       " -0.01943892054259777,\n",
       " 0.04021144285798073,\n",
       " 0.01996329426765442,\n",
       " -0.01959010772407055,\n",
       " -0.02545548975467682,\n",
       " -0.050159256905317307,\n",
       " -0.013530143536627293,\n",
       " -0.001967322314158082,\n",
       " -0.02038530446588993,\n",
       " 0.04548722878098488,\n",
       " -0.012989991344511509,\n",
       " 0.021378057077527046,\n",
       " -0.012594610452651978,\n",
       " 0.021334493532776833,\n",
       " -0.07258344441652298,\n",
       " 0.013502933084964752,\n",
       " -0.0015460113063454628,\n",
       " 0.02130734920501709,\n",
       " -0.03906956687569618,\n",
       " 0.018114890903234482,\n",
       " 0.10605508089065552,\n",
       " -0.01239059679210186,\n",
       " -0.007551813963800669,\n",
       " 0.031170334666967392,\n",
       " 0.028370169922709465,\n",
       " 0.03638804331421852,\n",
       " 0.032675206661224365,\n",
       " -0.07013053447008133,\n",
       " -0.04272206127643585,\n",
       " 0.001337726484052837,\n",
       " -0.014796064235270023,\n",
       " 0.014897258952260017,\n",
       " 0.014731217175722122,\n",
       " -0.027370458468794823,\n",
       " -0.033550456166267395,\n",
       " -0.017726274207234383,\n",
       " -0.0031021113973110914,\n",
       " 0.02377561293542385,\n",
       " -0.044361915439367294,\n",
       " 0.022783173248171806,\n",
       " -0.016780611127614975,\n",
       " -0.009637854062020779,\n",
       " -0.01913481391966343,\n",
       " -0.057304736226797104,\n",
       " 0.015805404633283615,\n",
       " -0.288154661655426,\n",
       " 0.06038215756416321,\n",
       " 0.012093673460185528,\n",
       " 0.06068023294210434,\n",
       " -0.015190807171165943,\n",
       " 0.04343780130147934,\n",
       " -0.02540299855172634,\n",
       " 0.005772482603788376,\n",
       " 0.020782317966222763,\n",
       " 0.06189120560884476,\n",
       " 0.08303523808717728,\n",
       " -0.013036626391112804,\n",
       " 0.03996753320097923,\n",
       " 0.02028234861791134,\n",
       " -0.020588282495737076,\n",
       " -0.007686495780944824,\n",
       " 0.08255351334810257,\n",
       " -0.016383664682507515,\n",
       " -0.04121385142207146,\n",
       " 0.008457444608211517,\n",
       " 0.06771955639123917,\n",
       " -0.03818449005484581,\n",
       " 0.1375817507505417,\n",
       " -0.04368165507912636,\n",
       " 0.026420345529913902,\n",
       " 0.034660454839468,\n",
       " -0.022234154865145683,\n",
       " 0.0005791856674477458,\n",
       " 0.0572957806289196,\n",
       " 0.042612794786691666,\n",
       " 0.035332780331373215,\n",
       " 0.09318069368600845,\n",
       " -0.05592634156346321,\n",
       " 0.0028582336381077766,\n",
       " 0.07595142722129822,\n",
       " 0.04679247364401817,\n",
       " 0.005854478105902672,\n",
       " 0.016462579369544983,\n",
       " -0.013032588176429272,\n",
       " 0.002350363414734602,\n",
       " -0.0030540041625499725,\n",
       " -0.019092131406068802,\n",
       " 0.004643360618501902,\n",
       " -0.005234492477029562,\n",
       " 0.05252275988459587,\n",
       " -0.04349789768457413,\n",
       " -0.025418130680918694,\n",
       " -0.07896965742111206,\n",
       " 0.03310837224125862,\n",
       " -0.031761448830366135,\n",
       " -0.03256026282906532,\n",
       " 0.008735494688153267,\n",
       " -0.032429032027721405,\n",
       " 0.014026201330125332,\n",
       " 0.04622713103890419,\n",
       " -0.026728909462690353,\n",
       " 0.04021887108683586,\n",
       " -0.028849095106124878,\n",
       " 0.07531449943780899,\n",
       " 0.03546326979994774,\n",
       " 0.033497024327516556,\n",
       " 0.0016216615913435817,\n",
       " -0.013236597180366516,\n",
       " 0.08728467673063278,\n",
       " 0.026657862588763237]"
      ]
     },
     "execution_count": 12,
     "metadata": {},
     "output_type": "execute_result"
    }
   ],
   "source": [
    "embeddings[0]"
   ]
  },
  {
   "cell_type": "markdown",
   "metadata": {},
   "source": [
    "### Save to vector db (Chromadb)"
   ]
  },
  {
   "cell_type": "code",
   "execution_count": 16,
   "metadata": {},
   "outputs": [],
   "source": [
    "chroma_client = chromadb.PersistentClient(path=os.path.join(os.getcwd(), db_config.DB_NAME))"
   ]
  },
  {
   "cell_type": "code",
   "execution_count": 17,
   "metadata": {},
   "outputs": [],
   "source": [
    "collection = chroma_client.get_or_create_collection(name=db_config.COLLECTION_NAME)"
   ]
  },
  {
   "cell_type": "code",
   "execution_count": 25,
   "metadata": {},
   "outputs": [],
   "source": [
    "def insert_record(collection, chunk, embedding):\n",
    "    collection.add(\n",
    "        embeddings=[embedding],\n",
    "        documents=[chunk],\n",
    "        # metadatas=[{'metadata': \"1\"}],\n",
    "        ids=[str(uuid.uuid4())],\n",
    "    )"
   ]
  },
  {
   "cell_type": "code",
   "execution_count": 27,
   "metadata": {},
   "outputs": [],
   "source": [
    "for chunk, embedding in zip(docs, embeddings):\n",
    "    insert_record(collection, chunk.page_content, embedding)"
   ]
  },
  {
   "cell_type": "markdown",
   "metadata": {},
   "source": [
    "### Test query from db"
   ]
  },
  {
   "cell_type": "code",
   "execution_count": 70,
   "metadata": {},
   "outputs": [],
   "source": [
    "def find_embedding(model, collection, query: str, n_results=3):\n",
    "    query_vector = model.embed_query(query)\n",
    "    query_result = collection.query(\n",
    "        query_embeddings=[query_vector],\n",
    "        n_results=n_results,\n",
    "    )\n",
    "\n",
    "    # pprint(query_result)\n",
    "\n",
    "    examples = \"\"\n",
    "\n",
    "    for res in query_result['documents'][0]:\n",
    "        try:\n",
    "            examples += f\"Result:\\n{res}\\n\"\n",
    "            examples += \"-\"*20 + '\\n'\n",
    "        except:\n",
    "            continue\n",
    "\n",
    "    return examples"
   ]
  },
  {
   "cell_type": "code",
   "execution_count": 71,
   "metadata": {},
   "outputs": [],
   "source": [
    "examples = find_embedding(model_embedding, collection, 'What is bone cancer?', n_results=1)"
   ]
  },
  {
   "cell_type": "code",
   "execution_count": 74,
   "metadata": {},
   "outputs": [
    {
     "name": "stdout",
     "output_type": "stream",
     "text": [
      "Result:\n",
      "See Second Cancers in Adults for more information about second cancers.What is bone cancer? Cancer starts when cells begin to grow out of control. Cells in nearly any part of the body can become cancer, and can then spread to other parts of the body. To learn more about cancer and how it starts and spreads, see What Is Cancer? Primary bone cancers start when the cells in the bone start to grow out of control. Primary bone cancer versus bone metastasis\n",
      "Primary bone cancers start in bones. Most bone cancers in children and teens are primary bone cancers. But in adults, most cancers in the bones started in a different organ and then spread to the bones. This is known as bone metastasis, and it can happen with some common cancers like breast, prostate, or lung cancer. For example, breast cancer that spreads to the bones is not bone cancer, it’s metastatic breast cancer. The cancer cells in the bone look like the cancer cells in the breast, and they're treated the same way. Types of bone cancer\n",
      "There are many types of bone cancer. Your doctor can tell you more about the type you have. Osteosarcoma and Ewing tumors (Ewing sarcomas) are the most common bone cancers in children and teens. For more on these cancers, click on their links. The most common types of bone cancer in adults include:\n",
      "\n",
      "Chondrosarcoma\n",
      "Undifferentiated pleomorphic sarcoma (UPS) of bone (formerly known as malignant fibrous histiocytoma [MFH] of bone)\n",
      "Fibrosarcoma of bone\n",
      "Malignant giant cell tumor of bone\n",
      "Chordoma\n",
      "\n",
      "Other cancers that can start in the bones\n",
      "Some cancers start in the bone marrow (the center of the bones, where new blood cells are made). These cancers include multiple myeloma, leukemias, and some non-Hodgkin lymphomas. These are not thought of as bone cancers. For more on these cancers, click on the links above. Questions to ask the doctor\n",
      "\n",
      "Why do you think I have bone cancer? Is there a chance I don’t have bone cancer? Would you please write down the kind of bone cancer you think I might have? Where is the cancer? Which bone is it in? What will happen next? How does the doctor know I have bone cancer? These cancers may not be found until they cause pain that makes a person go to the doctor. Other signs or symptoms of bone cancer can include swelling, a lump, and/or the bone breaking. The doctor will ask you questions about your health and do a physical exam. If signs are pointing to bone cancer, tests will be needed to find out for sure. Here are some of the tests you may need:\n",
      "X-rays: Most bone cancers can be seen on x-rays, so this is often the first test done if a person might have bone cancer. MRI scan: MRIs use radio waves and strong magnets instead of x-rays to make detailed pictures of the body. MRIs can be used to learn more about the size and shape of a tumor in a bone. CT scan (CAT scan): This test combines many x-rays to make detailed pictures. It can be used to see if the cancer has spread to the liver, lungs, or other organs. Bone scan: This test may be done to see if the cancer has spread to other bones. A small amount of low-level radioactive substance is put into your blood. It settles in damaged areas of bone all over the body. A special camera shows the radioactivity and makes a picture of your bones. PET scan: A PET scan is like a bone scan, but it uses a type of sugar that can be seen inside your body with a special camera. Where there is cancer, this sugar shows up as a “hot spot.” This test is useful when your doctor thinks the cancer might have spread, but doesn’t know where. Some machines can do both a PET and a CT scan at the same time (known as a PET/CT scan). Biopsy: For this test, the doctor takes out small pieces of the tumor.\n",
      "--------------------\n",
      "\n"
     ]
    }
   ],
   "source": [
    "print(examples)"
   ]
  },
  {
   "cell_type": "code",
   "execution_count": 76,
   "metadata": {},
   "outputs": [],
   "source": [
    "examples = find_embedding(model_embedding, collection, 'What are the risks of eye cancer?', n_results=3)"
   ]
  },
  {
   "cell_type": "code",
   "execution_count": 77,
   "metadata": {},
   "outputs": [
    {
     "name": "stdout",
     "output_type": "stream",
     "text": [
      "Result:\n",
      "And many people who get the disease may have few or no known risk factors. Race/ethnicity\n",
      "The risk of eye melanoma is much higher in White people than in African Americans, Hispanics, or Asian Americans. Eye color\n",
      "People with light colored eyes are somewhat more likely to develop uveal melanoma of the eye than are people with darker eye and skin color. Age and sex\n",
      "Eye melanomas can occur at any age, but the risk goes up as people get older. Eye melanoma is slightly more common in men than in women. Certain inherited conditions\n",
      "People with dysplastic nevus syndrome, who have many abnormal moles on the skin, are at increased risk of skin melanoma. They also seem to have a higher risk of developing melanoma of the eye. People with abnormal brown spots on the uvea (known as oculodermal melanocytosis or nevus of Ota) also have an increased risk of developing uveal eye melanoma. BAP1 cancer syndrome is a rare inherited condition in which family members are at increased risk for uveal eye melanoma, as well as melanoma of the skin, malignant mesothelioma, kidney cancer and others. This condition is caused by an inherited mutation (change) in the BAP1 gene and tends to form aggressive cancers that appear at younger ages. Moles\n",
      "Different types of moles (nevi) in the eye or on the skin have been associated with an increased risk of uveal eye melanoma. In the eye, these include choroidal, giant choroidal, and iris nevi; on the skin, atypical nevi, common nevi of the skin, and freckles. An eye condition, known as primary acquired melanosis (PAM), where the melanocytes in the eye grow too much, is a risk factor for conjunctival melanoma. Family history\n",
      "Uveal eye melanomas can run in some families, but this is very rare and the genetic reasons for this are still being investigated. Unproven risk factors\n",
      "Sun exposure: Too much exposure to sunlight (or sunlamps), a known risk factor for melanoma of the skin, has also been proposed as a possible risk factor for uveal or conjunctival melanoma of the eye, but studies so far have shown mixed results. More research is needed to answer this question. Certain occupations: Some studies have suggested that welders may have a higher risk of uveal eye melanoma (of the choroid and ciliary body), but more studies are being done. Skin melanoma: Some patients with uveal eye melanoma have a history of melanoma of the skin , but it is still not known if having skin melanoma increases your risk of eye melanoma.The exact cause of most eye cancers is not known. But scientists have found that the disease is linked with some other conditions, which are described in Risk Factors for Eye Cancer.\n",
      "--------------------\n",
      "Result:\n",
      "So if they have a cancer that's treated with radiation, they have a very high chance of developing a new cancer in the part of the body that was treated. Retinoblastoma\n",
      "Retinoblastoma is an eye cancer in children that can be caused by defects in the RB1 gene. Children with this gene defect also have a higher risk of developing bone or soft tissue sarcomas, especially if the retinoblastoma was treated with radiation. Werner syndrome\n",
      "Werner syndrome is caused by defects in the RECQL2 gene. Children with this syndrome have problems like those seen in the elderly.\n",
      "--------------------\n",
      "Result:\n",
      "So if they have a cancer that's treated with radiation, they have a very high chance of developing a new cancer in the part of the body that was treated. Retinoblastoma\n",
      "Retinoblastoma is an eye cancer in children that can be caused by defects in the RB1 gene. Children with this gene defect also have a higher risk of developing bone or soft tissue sarcomas, especially if the retinoblastoma was treated with radiation. Werner syndrome\n",
      "Werner syndrome is caused by defects in the RECQL2 gene. Children with this syndrome have problems like those seen in the elderly.\n",
      "--------------------\n",
      "\n"
     ]
    }
   ],
   "source": [
    "print(examples)"
   ]
  }
 ],
 "metadata": {
  "kernelspec": {
   "display_name": "Python 3",
   "language": "python",
   "name": "python3"
  },
  "language_info": {
   "codemirror_mode": {
    "name": "ipython",
    "version": 3
   },
   "file_extension": ".py",
   "mimetype": "text/x-python",
   "name": "python",
   "nbconvert_exporter": "python",
   "pygments_lexer": "ipython3",
   "version": "3.9.16"
  }
 },
 "nbformat": 4,
 "nbformat_minor": 2
}
