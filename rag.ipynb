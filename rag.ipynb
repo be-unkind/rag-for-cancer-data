{
 "cells": [
  {
   "cell_type": "code",
   "execution_count": 181,
   "metadata": {},
   "outputs": [],
   "source": [
    "import os\n",
    "import chromadb\n",
    "import torch"
   ]
  },
  {
   "cell_type": "code",
   "execution_count": 182,
   "metadata": {},
   "outputs": [],
   "source": [
    "from pprint import pprint"
   ]
  },
  {
   "cell_type": "code",
   "execution_count": 184,
   "metadata": {},
   "outputs": [],
   "source": [
    "import dspy\n",
    "from dspy.retrieve.chromadb_rm import ChromadbRM\n",
    "from dspy.teleprompt import BootstrapFewShot\n",
    "\n",
    "import groq\n",
    "from groq import Groq"
   ]
  },
  {
   "cell_type": "code",
   "execution_count": null,
   "metadata": {},
   "outputs": [],
   "source": [
    "from configs import models_config\n",
    "from configs import db_config"
   ]
  },
  {
   "cell_type": "code",
   "execution_count": 185,
   "metadata": {},
   "outputs": [],
   "source": [
    "# from langchain_community.embeddings import HuggingFaceEmbeddings\n",
    "import chromadb.utils.embedding_functions as embedding_functions"
   ]
  },
  {
   "cell_type": "code",
   "execution_count": 186,
   "metadata": {},
   "outputs": [],
   "source": [
    "chroma_client = chromadb.PersistentClient(path=os.path.join(os.getcwd(), db_config.DB_NAME))"
   ]
  },
  {
   "cell_type": "code",
   "execution_count": 187,
   "metadata": {},
   "outputs": [],
   "source": [
    "from dotenv import load_dotenv\n",
    "load_dotenv()"
   ]
  },
  {
   "cell_type": "code",
   "execution_count": 188,
   "metadata": {},
   "outputs": [],
   "source": [
    "llama = dspy.GROQ(model=models_config.LM_NAME_GROQ, api_key=os.getenv('GROQ_API_KEY'), temperature=models_config.LM_TEMPERATURE, max_tokens=models_config.LM_MAX_TOKENS)"
   ]
  },
  {
   "cell_type": "code",
   "execution_count": 7,
   "metadata": {},
   "outputs": [],
   "source": [
    "# device = 'cuda:0' if torch.cuda.is_available() else 'cpu'\n",
    "# model_embedding = HuggingFaceEmbeddings(model_name='BAAI/bge-small-en-v1.5', model_kwargs={'device': device})"
   ]
  },
  {
   "cell_type": "code",
   "execution_count": 189,
   "metadata": {},
   "outputs": [],
   "source": [
    "huggingface_ef = embedding_functions.HuggingFaceEmbeddingFunction(\n",
    "    api_key=os.getenv('HF_API_KEY'),\n",
    "    model_name=models_config.EMBEDDING_MODEL_NAME\n",
    ")"
   ]
  },
  {
   "cell_type": "code",
   "execution_count": 190,
   "metadata": {},
   "outputs": [],
   "source": [
    "retrieve_model = ChromadbRM(\n",
    "    db_config.COLLECTION_NAME,\n",
    "    os.path.join(os.getcwd(), db_config.DB_NAME),\n",
    "    embedding_function=huggingface_ef,\n",
    "    k=models_config.RM_TOP_PASSAGES\n",
    ")"
   ]
  },
  {
   "cell_type": "code",
   "execution_count": 191,
   "metadata": {},
   "outputs": [],
   "source": [
    "dspy.settings.configure(lm=llama, rm=retrieve_model)"
   ]
  },
  {
   "cell_type": "code",
   "execution_count": 197,
   "metadata": {},
   "outputs": [],
   "source": [
    "class GenerateAnswerSignature(dspy.Signature):\n",
    "    \"\"\"\n",
    "    Answer based on the provided information, typically in 5-7 sentences. \n",
    "    Only answer if the question relates directly to the topic of cancer. \n",
    "    If the question does not directly match with the context, respond with 'Sorry, but I can provide you only the information about cancer.\n",
    "    \"\"\"\n",
    "\n",
    "    context = dspy.InputField(desc=\"May contain relevant facts.\")\n",
    "    question = dspy.InputField()\n",
    "    answer = dspy.OutputField(desc=\"Answer based on the provided information, typically in 5-7 sentences.\")"
   ]
  },
  {
   "cell_type": "code",
   "execution_count": 198,
   "metadata": {},
   "outputs": [],
   "source": [
    "class CancerRAG(dspy.Module):\n",
    "    def __init__(self, num_passages=models_config.RM_TOP_PASSAGES):\n",
    "        super().__init__()\n",
    "\n",
    "        self.retrieve = dspy.Retrieve(k=num_passages)\n",
    "        self.generate_answer = dspy.ChainOfThought(GenerateAnswerSignature)\n",
    "        # self.generate_answer = dspy.ChainOfThought(\"context, question -> answer\")\n",
    "    \n",
    "    def forward(self, question):\n",
    "        context = self.retrieve(question).passages\n",
    "        prediction = self.generate_answer(context=context, question=question)\n",
    "        return dspy.Prediction(context=context, answer=prediction.answer)"
   ]
  },
  {
   "cell_type": "code",
   "execution_count": 199,
   "metadata": {},
   "outputs": [],
   "source": [
    "uncompiled_rag = CancerRAG()"
   ]
  },
  {
   "cell_type": "code",
   "execution_count": 200,
   "metadata": {},
   "outputs": [],
   "source": [
    "test_query_uncompiled = \"What is the best romance movie?\"\n",
    "response_uncompiled = uncompiled_rag(test_query_uncompiled)"
   ]
  },
  {
   "cell_type": "code",
   "execution_count": 228,
   "metadata": {},
   "outputs": [
    {
     "name": "stdout",
     "output_type": "stream",
     "text": [
      "Sorry, but I can provide you only the information about cancer.\n"
     ]
    }
   ],
   "source": [
    "print(response_uncompiled.answer)"
   ]
  },
  {
   "cell_type": "code",
   "execution_count": 204,
   "metadata": {},
   "outputs": [],
   "source": [
    "test_query_1 = \"What is lung carcinoid tumor?\"\n",
    "response_1 = uncompiled_rag(test_query_1)"
   ]
  },
  {
   "cell_type": "code",
   "execution_count": 229,
   "metadata": {},
   "outputs": [
    {
     "name": "stdout",
     "output_type": "stream",
     "text": [
      "Answer: A lung carcinoid tumor is a type of lung cancer that starts in neuroendocrine cells in the lungs.\n"
     ]
    }
   ],
   "source": [
    "print(response_1.answer)"
   ]
  },
  {
   "cell_type": "code",
   "execution_count": 206,
   "metadata": {},
   "outputs": [],
   "source": [
    "test_query_2 = \"Who is Harry Potter?\"\n",
    "response_2 = uncompiled_rag(test_query_2)"
   ]
  },
  {
   "cell_type": "code",
   "execution_count": 230,
   "metadata": {},
   "outputs": [
    {
     "name": "stdout",
     "output_type": "stream",
     "text": [
      "Sorry, but I can provide you only the information about cancer. The provided context does not relate to Harry Potter.\n"
     ]
    }
   ],
   "source": [
    "print(response_2.answer)"
   ]
  },
  {
   "cell_type": "code",
   "execution_count": 210,
   "metadata": {},
   "outputs": [],
   "source": [
    "test_query_3 = \"Tell me about survival rates of patients with thyroid cancer\"\n",
    "response_3 = uncompiled_rag(test_query_3)"
   ]
  },
  {
   "cell_type": "code",
   "execution_count": 231,
   "metadata": {},
   "outputs": [
    {
     "name": "stdout",
     "output_type": "stream",
     "text": [
      "According to the provided information, the 5-year relative survival rates for thyroid cancer are grouped based on how far the cancer has spread. The rates are as follows:\n",
      "\n",
      "* For papillary thyroid cancer:\n",
      "\t+ Localized: >99.5%\n",
      "\t+ Regional: 99%\n",
      "\t+ Distant: 74%\n",
      "\t+ All SEER stages combined: >99.5%\n",
      "* For follicular thyroid cancer:\n",
      "\t+ Localized: >99.5%\n",
      "\t+ Regional: 98%\n",
      "\t+ Distant: 67%\n",
      "\t+ All SEER stages combined: 98%\n",
      "* For medullary thyroid cancer:\n",
      "\t+ Localized: >99.5%\n",
      "\t+ Regional: 92%\n",
      "\t+ Distant: 43%\n",
      "\t+ All SEER stages combined: 91%\n",
      "* For anaplastic thyroid cancer:\n",
      "\t+ Localized: 39%\n",
      "\t+ Regional: 11%\n",
      "\t+ Distant: 4%\n",
      "\t+ All SEER stages combined: 8%\n",
      "\n",
      "These numbers are based on people diagnosed with thyroid cancer between 2012 and 2018.\n"
     ]
    }
   ],
   "source": [
    "print(response_3.answer)"
   ]
  },
  {
   "cell_type": "code",
   "execution_count": 212,
   "metadata": {},
   "outputs": [],
   "source": [
    "test_query_4 = \"Tell me about treatment options for stomach cancer\"\n",
    "response_4 = uncompiled_rag(test_query_4)"
   ]
  },
  {
   "cell_type": "code",
   "execution_count": 232,
   "metadata": {},
   "outputs": [
    {
     "name": "stdout",
     "output_type": "stream",
     "text": [
      "Here is the answer:\n",
      "\n",
      "When it comes to treatment options for stomach cancer, there are several approaches that may be considered. The first step is to determine the stage of the cancer, which will help guide the choice of treatment. If the cancer is localized and has not spread, surgery may be an option to remove the tumor and nearby lymph nodes. This can be a subtotal gastrectomy (removal of part of the stomach) or total gastrectomy (removal of the entire stomach). If the cancer has spread, treatment may focus on controlling the growth of the cancer and preventing or relieving symptoms. This may involve chemotherapy alone, chemotherapy plus immunotherapy, or chemotherapy along with radiation therapy. In some cases, targeted therapies such as trastuzumab may be added to the treatment plan. The goal of treatment will depend on the individual's specific situation and the stage of their cancer.\n"
     ]
    }
   ],
   "source": [
    "print(response_4.answer)"
   ]
  },
  {
   "cell_type": "code",
   "execution_count": 214,
   "metadata": {},
   "outputs": [],
   "source": [
    "test_query_5 = \"Do you like pinapple on pizza?\"\n",
    "response_5 = uncompiled_rag(test_query_5)"
   ]
  },
  {
   "cell_type": "code",
   "execution_count": 233,
   "metadata": {},
   "outputs": [
    {
     "name": "stdout",
     "output_type": "stream",
     "text": [
      "Sorry, but I can provide you only the information about cancer.\n"
     ]
    }
   ],
   "source": [
    "print(response_5.answer)"
   ]
  },
  {
   "cell_type": "code",
   "execution_count": 216,
   "metadata": {},
   "outputs": [],
   "source": [
    "test_query_6 = \"What are the symptoms of waldenstrom macroglobulinemia?\"\n",
    "response_6 = uncompiled_rag(test_query_6)"
   ]
  },
  {
   "cell_type": "code",
   "execution_count": 234,
   "metadata": {},
   "outputs": [
    {
     "name": "stdout",
     "output_type": "stream",
     "text": [
      "The symptoms of Waldenstrom macroglobulinemia (WM) include weakness, loss of appetite, fever, sweats, weight loss, and neuropathy (painful pins-and-needles feeling in the feet/legs).\n"
     ]
    }
   ],
   "source": [
    "print(response_6.answer)"
   ]
  },
  {
   "cell_type": "code",
   "execution_count": 218,
   "metadata": {},
   "outputs": [],
   "source": [
    "test_query_7 = \"Is Slack a good communication tool?\"\n",
    "response_7 = uncompiled_rag(test_query_7)"
   ]
  },
  {
   "cell_type": "code",
   "execution_count": 235,
   "metadata": {},
   "outputs": [
    {
     "name": "stdout",
     "output_type": "stream",
     "text": [
      "Sorry, but I can provide you only the information about cancer.\n"
     ]
    }
   ],
   "source": [
    "print(response_7.answer)"
   ]
  },
  {
   "cell_type": "code",
   "execution_count": 220,
   "metadata": {},
   "outputs": [],
   "source": [
    "test_query_8 = \"Tell me about best travel spots in France\"\n",
    "response_8 = uncompiled_rag(test_query_8)"
   ]
  },
  {
   "cell_type": "code",
   "execution_count": 236,
   "metadata": {},
   "outputs": [
    {
     "name": "stdout",
     "output_type": "stream",
     "text": [
      "Sorry, but I can provide you only the information about cancer.\n"
     ]
    }
   ],
   "source": [
    "print(response_8.answer)"
   ]
  },
  {
   "cell_type": "code",
   "execution_count": 222,
   "metadata": {},
   "outputs": [],
   "source": [
    "test_query_9 = \"Is it possible to treat pancreatic cancer?\"\n",
    "response_9 = uncompiled_rag(test_query_9)"
   ]
  },
  {
   "cell_type": "code",
   "execution_count": 237,
   "metadata": {},
   "outputs": [
    {
     "name": "stdout",
     "output_type": "stream",
     "text": [
      "Answer: Yes, it is possible to treat pancreatic cancer. According to the provided context, pancreatic cancer is treated based on its resectability - whether the pancreatic tumor has spread to other parts of the body and if it can be completely removed by a surgeon. Other factors, such as the patient's overall health, can also affect treatment options. The context mentions various treatment options, including surgery, ablation and embolization treatments, radiation therapy, chemotherapy, and immunotherapy. Additionally, targeted drugs and immunotherapy can be used to specifically target the changes in pancreatic cancer cells that help them grow.\n"
     ]
    }
   ],
   "source": [
    "print(response_9.answer)"
   ]
  },
  {
   "cell_type": "code",
   "execution_count": 241,
   "metadata": {},
   "outputs": [],
   "source": [
    "test_query_10 = \"What types of cancer can develop in children?\"\n",
    "response_10 = uncompiled_rag(test_query_10)"
   ]
  },
  {
   "cell_type": "code",
   "execution_count": 243,
   "metadata": {},
   "outputs": [
    {
     "name": "stdout",
     "output_type": "stream",
     "text": [
      "The types of cancers that can develop in children are different from those that develop in adults. The most common cancers in children are:\n",
      "\n",
      "1. Leukemia\n",
      "2. Brain and spinal cord tumors\n",
      "3. Neuroblastoma\n",
      "4. Wilms tumor\n",
      "5. Lymphoma (including both Hodgkin and non-Hodgkin)\n",
      "6. Rhabdomyosarcoma\n",
      "7. Retinoblastoma\n",
      "8. Bone cancer (including osteosarcoma and Ewing sarcoma)\n",
      "\n",
      "These cancers are often the result of DNA (gene) changes in cells that take place very early in life, sometimes even before birth. Unlike many cancers in adults, childhood cancers are not strongly linked to lifestyle or environmental risk factors.\n"
     ]
    }
   ],
   "source": [
    "print(response_10.answer)"
   ]
  }
 ],
 "metadata": {
  "kernelspec": {
   "display_name": "Python 3",
   "language": "python",
   "name": "python3"
  },
  "language_info": {
   "codemirror_mode": {
    "name": "ipython",
    "version": 3
   },
   "file_extension": ".py",
   "mimetype": "text/x-python",
   "name": "python",
   "nbconvert_exporter": "python",
   "pygments_lexer": "ipython3",
   "version": "3.9.16"
  }
 },
 "nbformat": 4,
 "nbformat_minor": 2
}
