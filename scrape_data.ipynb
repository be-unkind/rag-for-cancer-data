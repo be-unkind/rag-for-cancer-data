{
 "cells": [
  {
   "cell_type": "code",
   "execution_count": 1,
   "metadata": {},
   "outputs": [],
   "source": [
    "import requests\n",
    "from bs4 import BeautifulSoup"
   ]
  },
  {
   "cell_type": "code",
   "execution_count": 2,
   "metadata": {},
   "outputs": [],
   "source": [
    "import pandas as pd"
   ]
  },
  {
   "cell_type": "code",
   "execution_count": 14,
   "metadata": {},
   "outputs": [],
   "source": [
    "from tqdm import tqdm\n",
    "import os"
   ]
  },
  {
   "cell_type": "code",
   "execution_count": 4,
   "metadata": {},
   "outputs": [],
   "source": [
    "general_url = 'https://www.cancer.org'"
   ]
  },
  {
   "cell_type": "code",
   "execution_count": 5,
   "metadata": {},
   "outputs": [],
   "source": [
    "url = 'https://www.cancer.org/cancer/types/'\n",
    "response = requests.get(url)"
   ]
  },
  {
   "cell_type": "code",
   "execution_count": 6,
   "metadata": {},
   "outputs": [],
   "source": [
    "cancer = BeautifulSoup(response.content, 'html.parser')"
   ]
  },
  {
   "cell_type": "code",
   "execution_count": null,
   "metadata": {},
   "outputs": [],
   "source": [
    "cancer"
   ]
  },
  {
   "cell_type": "code",
   "execution_count": 8,
   "metadata": {},
   "outputs": [],
   "source": [
    "links = cancer.find_all('a', href=True)"
   ]
  },
  {
   "cell_type": "code",
   "execution_count": 9,
   "metadata": {},
   "outputs": [],
   "source": [
    "cancer_type_urls = []\n",
    "\n",
    "for link in links:\n",
    "    subpage_url = link.get('href')\n",
    "    \n",
    "    if subpage_url.startswith('/cancer/types/'):\n",
    "        cancer_type_urls.append(subpage_url)"
   ]
  },
  {
   "cell_type": "code",
   "execution_count": 10,
   "metadata": {},
   "outputs": [],
   "source": [
    "cancer_type_urls = list(set(cancer_type_urls))"
   ]
  },
  {
   "cell_type": "code",
   "execution_count": 11,
   "metadata": {},
   "outputs": [
    {
     "data": {
      "text/plain": [
       "['/cancer/types/kidney-cancer.html',\n",
       " '/cancer/types/lung-cancer.html',\n",
       " '/cancer/types/leukemia.html',\n",
       " '/cancer/types/ovarian-cancer.html',\n",
       " '/cancer/types/chronic-myeloid-leukemia.html',\n",
       " '/cancer/types/myelodysplastic-syndrome.html',\n",
       " '/cancer/types/anal-cancer.html',\n",
       " '/cancer/types/salivary-gland-cancer.html',\n",
       " '/cancer/types/thyroid-cancer.html',\n",
       " '/cancer/types/gastrointestinal-stromal-tumor.html',\n",
       " '/cancer/types/chronic-lymphocytic-leukemia.html',\n",
       " '/cancer/types/cancer-unknown-primary.html',\n",
       " '/cancer/types/breast-cancer.html',\n",
       " '/cancer/types/kaposi-sarcoma.html',\n",
       " '/cancer/types/chronic-myelomonocytic-leukemia.html',\n",
       " '/cancer/types/malignant-mesothelioma.html',\n",
       " '/cancer/types/oral-cavity-and-oropharyngeal-cancer.html',\n",
       " '/cancer/types/laryngeal-and-hypopharyngeal-cancer.html',\n",
       " '/cancer/types/pancreatic-neuroendocrine-tumor.html',\n",
       " '/cancer/types/leukemia-in-children.html',\n",
       " '/cancer/types/penile-cancer.html',\n",
       " '/cancer/types/cancer-in-young-adults.html',\n",
       " '/cancer/types/lung-carcinoid-tumor.html',\n",
       " '/cancer/types/wilms-tumor.html',\n",
       " '/cancer/types/bile-duct-cancer.html',\n",
       " '/cancer/types/adrenal-cancer.html',\n",
       " '/cancer/types/gastrointestinal-carcinoid-tumor.html',\n",
       " '/cancer/types/pituitary-tumors.html',\n",
       " '/cancer/types/melanoma-skin-cancer.html',\n",
       " '/cancer/types/multiple-myeloma.html',\n",
       " '/cancer/types/merkel-cell-skin-cancer.html',\n",
       " '/cancer/types/nasal-cavity-and-paranasal-sinus-cancer.html',\n",
       " '/cancer/types/small-intestine-cancer.html',\n",
       " '/cancer/types/waldenstrom-macroglobulinemia.html',\n",
       " '/cancer/types/uterine-sarcoma.html',\n",
       " '/cancer/types/prostate-cancer.html',\n",
       " '/cancer/types/breast-cancer-in-men.html',\n",
       " '/cancer/types/skin-lymphoma.html',\n",
       " '/cancer/types/hodgkin-lymphoma.html',\n",
       " '/cancer/types/bladder-cancer.html',\n",
       " '/cancer/types/rhabdomyosarcoma.html',\n",
       " '/cancer/types/thymus-cancer.html',\n",
       " '/cancer/types/brain-spinal-cord-tumors-adults.html',\n",
       " '/cancer/types/basal-and-squamous-cell-skin-cancer.html',\n",
       " '/cancer/types/brain-spinal-cord-tumors-children.html',\n",
       " '/cancer/types/ewing-tumor.html',\n",
       " '/cancer/types/head-neck-cancer.html',\n",
       " '/cancer/types/vulvar-cancer.html',\n",
       " '/cancer/types/cancer-in-adolescents.html',\n",
       " '/cancer/types/esophagus-cancer.html',\n",
       " '/cancer/types/soft-tissue-sarcoma.html',\n",
       " '/cancer/types/childhood-non-hodgkin-lymphoma.html',\n",
       " '/cancer/types/endometrial-cancer.html',\n",
       " '/cancer/types/nasopharyngeal-cancer.html',\n",
       " '/cancer/types/vaginal-cancer.html',\n",
       " '/cancer/types/pancreatic-cancer.html',\n",
       " '/cancer/types/skin-cancer.html',\n",
       " '/cancer/types/cancer-in-children.html',\n",
       " '/cancer/types/lymphoma.html',\n",
       " '/cancer/types/non-hodgkin-lymphoma.html',\n",
       " '/cancer/types/bone-cancer.html',\n",
       " '/cancer/types/gallbladder-cancer.html',\n",
       " '/cancer/types/neuroblastoma.html',\n",
       " '/cancer/types/colon-rectal-cancer.html',\n",
       " '/cancer/types/osteosarcoma.html',\n",
       " '/cancer/types/retinoblastoma.html',\n",
       " '/cancer/types/acute-myeloid-leukemia.html',\n",
       " '/cancer/types/rare-cancers.html',\n",
       " '/cancer/types/eye-cancer.html',\n",
       " '/cancer/types/liver-cancer.html',\n",
       " '/cancer/types/cervical-cancer.html',\n",
       " '/cancer/types/stomach-cancer.html',\n",
       " '/cancer/types/testicular-cancer.html',\n",
       " '/cancer/types/acute-lymphocytic-leukemia.html']"
      ]
     },
     "execution_count": 11,
     "metadata": {},
     "output_type": "execute_result"
    }
   ],
   "source": [
    "cancer_type_urls"
   ]
  },
  {
   "cell_type": "markdown",
   "metadata": {},
   "source": [
    "### All in one file"
   ]
  },
  {
   "cell_type": "code",
   "execution_count": 48,
   "metadata": {},
   "outputs": [
    {
     "name": "stderr",
     "output_type": "stream",
     "text": [
      " 12%|█▏        | 9/74 [01:50<12:49, 11.84s/it]"
     ]
    },
    {
     "name": "stdout",
     "output_type": "stream",
     "text": [
      "https://www.cancer.org/cancer/types/colon-rectal-cancer/colon-rectal-cancer.html\n",
      "https://www.cancer.org/cancer/types/colon-rectal-cancer/colon-rectal-cancer.html\n",
      "https://www.cancer.org/cancer/types/colon-rectal-cancer/colon-rectal-cancer.html\n",
      "https://www.cancer.org/cancer/types/colon-rectal-cancer/colon-rectal-cancer.html\n",
      "https://www.cancer.org/cancer/types/colon-rectal-cancer/colorectal-cancer-quiz.html\n"
     ]
    },
    {
     "name": "stderr",
     "output_type": "stream",
     "text": [
      " 14%|█▎        | 10/74 [02:17<17:32, 16.44s/it]"
     ]
    },
    {
     "name": "stdout",
     "output_type": "stream",
     "text": [
      "https://www.cancer.org/cancer/types/colon-rectal-cancer/colon-cancer-videos.html\n"
     ]
    },
    {
     "name": "stderr",
     "output_type": "stream",
     "text": [
      " 15%|█▍        | 11/74 [02:24<14:22, 13.69s/it]"
     ]
    },
    {
     "name": "stdout",
     "output_type": "stream",
     "text": [
      "https://www.cancer.org/cancer/types/cervical-cancer/cervical-cancer-quiz.html\n"
     ]
    },
    {
     "name": "stderr",
     "output_type": "stream",
     "text": [
      " 16%|█▌        | 12/74 [02:40<14:48, 14.32s/it]"
     ]
    },
    {
     "name": "stdout",
     "output_type": "stream",
     "text": [
      "https://www.cancer.org/cancer/types/cervical-cancer/cervical-cancer-screening-guidelines.html\n"
     ]
    },
    {
     "name": "stderr",
     "output_type": "stream",
     "text": [
      " 30%|██▉       | 22/74 [05:27<14:35, 16.84s/it]"
     ]
    },
    {
     "name": "stdout",
     "output_type": "stream",
     "text": [
      "https://www.cancer.org/cancer/types/lung-cancer/lung-cancer.html\n",
      "https://www.cancer.org/cancer/types/lung-cancer/lung-cancer.html\n",
      "https://www.cancer.org/cancer/types/lung-cancer/lung-cancer.html\n",
      "https://www.cancer.org/cancer/types/lung-cancer/lung-cancer.html\n",
      "https://www.cancer.org/cancer/types/lung-cancer/lung-cancer-quiz.html\n"
     ]
    },
    {
     "name": "stderr",
     "output_type": "stream",
     "text": [
      " 31%|███       | 23/74 [05:53<16:38, 19.58s/it]"
     ]
    },
    {
     "name": "stdout",
     "output_type": "stream",
     "text": [
      "https://www.cancer.org/cancer/types/lung-cancer/lung-cancer-videos.html\n"
     ]
    },
    {
     "name": "stderr",
     "output_type": "stream",
     "text": [
      " 39%|███▉      | 29/74 [07:02<08:36, 11.48s/it]"
     ]
    },
    {
     "name": "stdout",
     "output_type": "stream",
     "text": [
      "https://www.cancer.org/cancer/types/leukemia/leukemia-in-children.html\n"
     ]
    },
    {
     "name": "stderr",
     "output_type": "stream",
     "text": [
      " 41%|████      | 30/74 [07:05<06:22,  8.68s/it]"
     ]
    },
    {
     "name": "stdout",
     "output_type": "stream",
     "text": [
      "https://www.cancer.org/cancer/types/rare-cancers/rare-cancers.html\n"
     ]
    },
    {
     "name": "stderr",
     "output_type": "stream",
     "text": [
      " 45%|████▍     | 33/74 [07:52<09:18, 13.63s/it]"
     ]
    },
    {
     "name": "stdout",
     "output_type": "stream",
     "text": [
      "https://www.cancer.org/cancer/types/prostate-cancer/prostate-cancer.html\n",
      "https://www.cancer.org/cancer/types/prostate-cancer/prostate-cancer.html\n",
      "https://www.cancer.org/cancer/types/prostate-cancer/prostate-cancer.html\n",
      "https://www.cancer.org/cancer/types/prostate-cancer/prostate-cancer.html\n",
      "https://www.cancer.org/cancer/types/prostate-cancer/prostate-cancer-quiz.html\n"
     ]
    },
    {
     "name": "stderr",
     "output_type": "stream",
     "text": [
      " 46%|████▌     | 34/74 [08:19<11:41, 17.54s/it]"
     ]
    },
    {
     "name": "stdout",
     "output_type": "stream",
     "text": [
      "https://www.cancer.org/cancer/types/prostate-cancer/prostate-cancer-videos.html\n"
     ]
    },
    {
     "name": "stderr",
     "output_type": "stream",
     "text": [
      " 62%|██████▏   | 46/74 [11:25<05:23, 11.57s/it]"
     ]
    },
    {
     "name": "stdout",
     "output_type": "stream",
     "text": [
      "https://www.cancer.org/cancer/types/cancer-in-children/cancer-in-children.html\n",
      "https://www.cancer.org/cancer/types/cancer-in-children/cancer-in-children.html\n",
      "https://www.cancer.org/cancer/types/cancer-in-children/cancer-in-children.html\n",
      "https://www.cancer.org/cancer/types/cancer-in-children/cancer-in-children.html\n"
     ]
    },
    {
     "name": "stderr",
     "output_type": "stream",
     "text": [
      " 64%|██████▎   | 47/74 [11:37<05:16, 11.71s/it]"
     ]
    },
    {
     "name": "stdout",
     "output_type": "stream",
     "text": [
      "https://www.cancer.org/cancer/types/breast-cancer/breast-cancer.html\n",
      "https://www.cancer.org/cancer/types/breast-cancer/breast-cancer.html\n",
      "https://www.cancer.org/cancer/types/breast-cancer/breast-cancer.html\n",
      "https://www.cancer.org/cancer/types/breast-cancer/breast-cancer.html\n",
      "https://www.cancer.org/cancer/types/breast-cancer/breast-cancer-in-men.html\n",
      "https://www.cancer.org/cancer/types/breast-cancer/breast-cancer-quiz.html\n"
     ]
    },
    {
     "name": "stderr",
     "output_type": "stream",
     "text": [
      " 65%|██████▍   | 48/74 [12:29<10:16, 23.70s/it]"
     ]
    },
    {
     "name": "stdout",
     "output_type": "stream",
     "text": [
      "https://www.cancer.org/cancer/types/breast-cancer/breast-cancer-videos.html\n"
     ]
    },
    {
     "name": "stderr",
     "output_type": "stream",
     "text": [
      " 73%|███████▎  | 54/74 [14:02<05:35, 16.78s/it]"
     ]
    },
    {
     "name": "stdout",
     "output_type": "stream",
     "text": [
      "https://www.cancer.org/cancer/types/breast-cancer-in-men/talking-with-doctor.html\n"
     ]
    },
    {
     "name": "stderr",
     "output_type": "stream",
     "text": [
      " 88%|████████▊ | 65/74 [16:58<02:25, 16.12s/it]"
     ]
    },
    {
     "name": "stdout",
     "output_type": "stream",
     "text": [
      "https://www.cancer.org/cancer/types/skin-cancer/skin-cancer.html\n",
      "https://www.cancer.org/cancer/types/skin-cancer/skin-cancer.html\n",
      "https://www.cancer.org/cancer/types/skin-cancer/skin-cancer.html\n",
      "https://www.cancer.org/cancer/types/skin-cancer/skin-cancer.html\n",
      "https://www.cancer.org/cancer/types/skin-cancer/skin-cancer-image-gallery.html\n",
      "https://www.cancer.org/cancer/types/skin-cancer/skin-cancer-videos.html\n"
     ]
    },
    {
     "name": "stderr",
     "output_type": "stream",
     "text": [
      " 89%|████████▉ | 66/74 [17:06<01:49, 13.75s/it]"
     ]
    },
    {
     "name": "stdout",
     "output_type": "stream",
     "text": [
      "https://www.cancer.org/cancer/types/skin-cancer/skin-cancer-quiz.html\n"
     ]
    },
    {
     "name": "stderr",
     "output_type": "stream",
     "text": [
      "100%|██████████| 74/74 [19:14<00:00, 15.60s/it]\n"
     ]
    }
   ],
   "source": [
    "with open('cancer_data.txt', 'w') as f:    \n",
    "    for cancer_type_url in tqdm(cancer_type_urls):\n",
    "        cancer_type_df = pd.DataFrame(columns=['cancer_type', 'page', 'subpage'])\n",
    "        \n",
    "        cancer_type = cancer_type_url.split('/')[-1].split('.')[0]\n",
    "    \n",
    "        type_url = url + cancer_type_url.split('/')[-1]\n",
    "        type_page = BeautifulSoup(requests.get(type_url).content, 'html.parser')\n",
    "    \n",
    "        type_page_urls = [link.get('href') for link in type_page.find_all('a', href=True) if link.get('href').startswith(cancer_type_url.split('.')[0])]\n",
    "        \n",
    "        for type_page_url in type_page_urls:\n",
    "            type_info_page_local = cancer_type_url.split('/')[-1].split('.')[0] + '/' + type_page_url.split('/')[-1]\n",
    "            type_info_page_url = url + type_info_page_local\n",
    "            type_info_page = BeautifulSoup(requests.get(url + type_info_page_local).content, 'html.parser')\n",
    "    \n",
    "            type_page_name = type_info_page_local.split('/')[-1].split('.')[0]\n",
    "            \n",
    "            type_info_page_urls = []\n",
    "            for info_url in type_info_page.find_all('a', href=True):\n",
    "                if str(type_info_page_local.split('.')[0]) in info_url.get('href'):\n",
    "                    type_info_page_urls.append(info_url.get('href'))\n",
    "\n",
    "            if len(type_info_page_urls) == 0:\n",
    "                print(type_info_page_url)\n",
    "    \n",
    "            if len(type_info_page_urls) != 1 and len(type_info_page_urls) != 0:\n",
    "                type_info_page_urls.pop()\n",
    "    \n",
    "            # iterate through subpages\n",
    "            for type_info_page_url in type_info_page_urls:\n",
    "                subpage_url = general_url + type_info_page_url\n",
    "                subpage = BeautifulSoup(requests.get(subpage_url).content, 'html.parser')\n",
    "    \n",
    "                text_div = subpage.find(\"div\", class_=\"text-ckeditor aem-GridColumn aem-GridColumn--default--12\")\n",
    "    \n",
    "                if text_div:\n",
    "                    text_info = text_div.get_text()\n",
    "                    f.write(text_info.strip())\n",
    "    "
   ]
  },
  {
   "cell_type": "markdown",
   "metadata": {},
   "source": [
    "### All in separate files"
   ]
  },
  {
   "cell_type": "code",
   "execution_count": 12,
   "metadata": {},
   "outputs": [],
   "source": [
    "data_dir = os.path.join(os.getcwd(), 'data')"
   ]
  },
  {
   "cell_type": "code",
   "execution_count": 15,
   "metadata": {},
   "outputs": [
    {
     "name": "stderr",
     "output_type": "stream",
     "text": [
      "  1%|▏         | 1/74 [00:11<14:33, 11.96s/it]"
     ]
    },
    {
     "name": "stdout",
     "output_type": "stream",
     "text": [
      "https://www.cancer.org/cancer/types/lung-cancer/lung-cancer.html\n",
      "https://www.cancer.org/cancer/types/lung-cancer/lung-cancer.html\n",
      "https://www.cancer.org/cancer/types/lung-cancer/lung-cancer.html\n",
      "https://www.cancer.org/cancer/types/lung-cancer/lung-cancer.html\n",
      "https://www.cancer.org/cancer/types/lung-cancer/lung-cancer-quiz.html\n"
     ]
    },
    {
     "name": "stderr",
     "output_type": "stream",
     "text": [
      "  3%|▎         | 2/74 [00:40<26:18, 21.93s/it]"
     ]
    },
    {
     "name": "stdout",
     "output_type": "stream",
     "text": [
      "https://www.cancer.org/cancer/types/lung-cancer/lung-cancer-videos.html\n"
     ]
    },
    {
     "name": "stderr",
     "output_type": "stream",
     "text": [
      "  4%|▍         | 3/74 [00:42<14:53, 12.58s/it]"
     ]
    },
    {
     "name": "stdout",
     "output_type": "stream",
     "text": [
      "https://www.cancer.org/cancer/types/leukemia/leukemia-in-children.html\n"
     ]
    },
    {
     "name": "stderr",
     "output_type": "stream",
     "text": [
      " 16%|█▌        | 12/74 [03:10<16:56, 16.40s/it]"
     ]
    },
    {
     "name": "stdout",
     "output_type": "stream",
     "text": [
      "https://www.cancer.org/cancer/types/breast-cancer/breast-cancer.html\n",
      "https://www.cancer.org/cancer/types/breast-cancer/breast-cancer.html\n",
      "https://www.cancer.org/cancer/types/breast-cancer/breast-cancer.html\n",
      "https://www.cancer.org/cancer/types/breast-cancer/breast-cancer.html\n",
      "https://www.cancer.org/cancer/types/breast-cancer/breast-cancer-in-men.html\n",
      "https://www.cancer.org/cancer/types/breast-cancer/breast-cancer-quiz.html\n"
     ]
    },
    {
     "name": "stderr",
     "output_type": "stream",
     "text": [
      " 18%|█▊        | 13/74 [04:01<27:29, 27.05s/it]"
     ]
    },
    {
     "name": "stdout",
     "output_type": "stream",
     "text": [
      "https://www.cancer.org/cancer/types/breast-cancer/breast-cancer-videos.html\n"
     ]
    },
    {
     "name": "stderr",
     "output_type": "stream",
     "text": [
      " 47%|████▋     | 35/74 [09:10<09:12, 14.17s/it]"
     ]
    },
    {
     "name": "stdout",
     "output_type": "stream",
     "text": [
      "https://www.cancer.org/cancer/types/prostate-cancer/prostate-cancer.html\n",
      "https://www.cancer.org/cancer/types/prostate-cancer/prostate-cancer.html\n",
      "https://www.cancer.org/cancer/types/prostate-cancer/prostate-cancer.html\n",
      "https://www.cancer.org/cancer/types/prostate-cancer/prostate-cancer.html\n",
      "https://www.cancer.org/cancer/types/prostate-cancer/prostate-cancer-quiz.html\n"
     ]
    },
    {
     "name": "stderr",
     "output_type": "stream",
     "text": [
      " 49%|████▊     | 36/74 [09:35<10:54, 17.24s/it]"
     ]
    },
    {
     "name": "stdout",
     "output_type": "stream",
     "text": [
      "https://www.cancer.org/cancer/types/prostate-cancer/prostate-cancer-videos.html\n",
      "https://www.cancer.org/cancer/types/breast-cancer-in-men/talking-with-doctor.html\n"
     ]
    },
    {
     "name": "stderr",
     "output_type": "stream",
     "text": [
      " 76%|███████▌  | 56/74 [14:06<04:32, 15.16s/it]"
     ]
    },
    {
     "name": "stdout",
     "output_type": "stream",
     "text": [
      "https://www.cancer.org/cancer/types/skin-cancer/skin-cancer.html\n",
      "https://www.cancer.org/cancer/types/skin-cancer/skin-cancer.html\n",
      "https://www.cancer.org/cancer/types/skin-cancer/skin-cancer.html\n",
      "https://www.cancer.org/cancer/types/skin-cancer/skin-cancer.html\n",
      "https://www.cancer.org/cancer/types/skin-cancer/skin-cancer-image-gallery.html\n",
      "https://www.cancer.org/cancer/types/skin-cancer/skin-cancer-videos.html\n"
     ]
    },
    {
     "name": "stderr",
     "output_type": "stream",
     "text": [
      " 77%|███████▋  | 57/74 [14:15<03:46, 13.33s/it]"
     ]
    },
    {
     "name": "stdout",
     "output_type": "stream",
     "text": [
      "https://www.cancer.org/cancer/types/skin-cancer/skin-cancer-quiz.html\n",
      "https://www.cancer.org/cancer/types/cancer-in-children/cancer-in-children.html\n",
      "https://www.cancer.org/cancer/types/cancer-in-children/cancer-in-children.html\n",
      "https://www.cancer.org/cancer/types/cancer-in-children/cancer-in-children.html\n",
      "https://www.cancer.org/cancer/types/cancer-in-children/cancer-in-children.html\n"
     ]
    },
    {
     "name": "stderr",
     "output_type": "stream",
     "text": [
      " 85%|████████▌ | 63/74 [15:27<02:25, 13.26s/it]"
     ]
    },
    {
     "name": "stdout",
     "output_type": "stream",
     "text": [
      "https://www.cancer.org/cancer/types/colon-rectal-cancer/colon-rectal-cancer.html\n",
      "https://www.cancer.org/cancer/types/colon-rectal-cancer/colon-rectal-cancer.html\n",
      "https://www.cancer.org/cancer/types/colon-rectal-cancer/colon-rectal-cancer.html\n",
      "https://www.cancer.org/cancer/types/colon-rectal-cancer/colon-rectal-cancer.html\n",
      "https://www.cancer.org/cancer/types/colon-rectal-cancer/colorectal-cancer-quiz.html\n"
     ]
    },
    {
     "name": "stderr",
     "output_type": "stream",
     "text": [
      " 86%|████████▋ | 64/74 [15:57<03:01, 18.11s/it]"
     ]
    },
    {
     "name": "stdout",
     "output_type": "stream",
     "text": [
      "https://www.cancer.org/cancer/types/colon-rectal-cancer/colon-cancer-videos.html\n"
     ]
    },
    {
     "name": "stderr",
     "output_type": "stream",
     "text": [
      " 92%|█████████▏| 68/74 [16:41<01:09, 11.66s/it]"
     ]
    },
    {
     "name": "stdout",
     "output_type": "stream",
     "text": [
      "https://www.cancer.org/cancer/types/rare-cancers/rare-cancers.html\n"
     ]
    },
    {
     "name": "stderr",
     "output_type": "stream",
     "text": [
      " 95%|█████████▍| 70/74 [17:13<00:55, 13.97s/it]"
     ]
    },
    {
     "name": "stdout",
     "output_type": "stream",
     "text": [
      "https://www.cancer.org/cancer/types/cervical-cancer/cervical-cancer-quiz.html\n"
     ]
    },
    {
     "name": "stderr",
     "output_type": "stream",
     "text": [
      " 96%|█████████▌| 71/74 [17:33<00:47, 15.76s/it]"
     ]
    },
    {
     "name": "stdout",
     "output_type": "stream",
     "text": [
      "https://www.cancer.org/cancer/types/cervical-cancer/cervical-cancer-screening-guidelines.html\n"
     ]
    },
    {
     "name": "stderr",
     "output_type": "stream",
     "text": [
      "100%|██████████| 74/74 [18:15<00:00, 14.81s/it]\n"
     ]
    }
   ],
   "source": [
    "for cancer_type_url in tqdm(cancer_type_urls):\n",
    "    cancer_type_df = pd.DataFrame(columns=['cancer_type', 'page', 'subpage'])\n",
    "    \n",
    "    cancer_type = cancer_type_url.split('/')[-1].split('.')[0]\n",
    "\n",
    "    type_url = url + cancer_type_url.split('/')[-1]\n",
    "    type_page = BeautifulSoup(requests.get(type_url).content, 'html.parser')\n",
    "\n",
    "    type_page_urls = [link.get('href') for link in type_page.find_all('a', href=True) if link.get('href').startswith(cancer_type_url.split('.')[0])]\n",
    "\n",
    "    with open(os.path.join(data_dir, f'{cancer_type}.txt'), 'w') as f:\n",
    "        for type_page_url in type_page_urls:\n",
    "            type_info_page_local = cancer_type_url.split('/')[-1].split('.')[0] + '/' + type_page_url.split('/')[-1]\n",
    "            type_info_page_url = url + type_info_page_local\n",
    "            type_info_page = BeautifulSoup(requests.get(url + type_info_page_local).content, 'html.parser')\n",
    "    \n",
    "            type_page_name = type_info_page_local.split('/')[-1].split('.')[0]\n",
    "            \n",
    "            type_info_page_urls = []\n",
    "            for info_url in type_info_page.find_all('a', href=True):\n",
    "                if str(type_info_page_local.split('.')[0]) in info_url.get('href'):\n",
    "                    type_info_page_urls.append(info_url.get('href'))\n",
    "    \n",
    "            if len(type_info_page_urls) == 0:\n",
    "                print(type_info_page_url)\n",
    "    \n",
    "            if len(type_info_page_urls) != 1 and len(type_info_page_urls) != 0:\n",
    "                type_info_page_urls.pop()\n",
    "    \n",
    "            # iterate through subpages\n",
    "            for type_info_page_url in type_info_page_urls:\n",
    "                subpage_url = general_url + type_info_page_url\n",
    "                subpage = BeautifulSoup(requests.get(subpage_url).content, 'html.parser')\n",
    "    \n",
    "                text_div = subpage.find(\"div\", class_=\"text-ckeditor aem-GridColumn aem-GridColumn--default--12\")\n",
    "    \n",
    "                if text_div:\n",
    "                    text_info = text_div.get_text()\n",
    "                    f.write(text_info.strip())"
   ]
  }
 ],
 "metadata": {
  "kernelspec": {
   "display_name": "Python 3",
   "language": "python",
   "name": "python3"
  },
  "language_info": {
   "codemirror_mode": {
    "name": "ipython",
    "version": 3
   },
   "file_extension": ".py",
   "mimetype": "text/x-python",
   "name": "python",
   "nbconvert_exporter": "python",
   "pygments_lexer": "ipython3",
   "version": "3.9.16"
  }
 },
 "nbformat": 4,
 "nbformat_minor": 2
}
